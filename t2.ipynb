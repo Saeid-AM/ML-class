{
 "cells": [
  {
   "cell_type": "code",
   "execution_count": 1,
   "metadata": {},
   "outputs": [],
   "source": [
    "import numpy as np\n",
    "import pandas as pd\n",
    "from sklearn.linear_model import LogisticRegression ,LinearRegression\n",
    "from sklearn.model_selection import train_test_split, learning_curve\n",
    "from sklearn.preprocessing import PolynomialFeatures\n",
    "import matplotlib.pyplot as plt\n",
    "%matplotlib inline"
   ]
  },
  {
   "cell_type": "markdown",
   "metadata": {},
   "source": [
    "# Data:"
   ]
  },
  {
   "cell_type": "code",
   "execution_count": 2,
   "metadata": {},
   "outputs": [],
   "source": [
    "x1 = np.random.rand(200, 1) * 600\n",
    "y1 =  5 * x1 ** 4 + 6 * x1 ** 3 + 3 * x1 **2 + 2 * x1 + 7\n",
    "y1 = y1 + np.random.normal(scale=5, size = y1.shape)\n",
    "x1 = x1.reshape(-1,1)\n",
    "y1 = y1.reshape(-1,1)"
   ]
  },
  {
   "cell_type": "code",
   "execution_count": 3,
   "metadata": {},
   "outputs": [
    {
     "data": {
      "text/plain": [
       "<matplotlib.legend.Legend at 0x23499707e48>"
      ]
     },
     "execution_count": 3,
     "metadata": {},
     "output_type": "execute_result"
    },
    {
     "data": {
      "image/png": "[encoded data removed]",
      "text/plain": [
       "<Figure size 432x288 with 1 Axes>"
      ]
     },
     "metadata": {
      "needs_background": "light"
     },
     "output_type": "display_data"
    }
   ],
   "source": [
    "plt.plot(x1, y1, 'r.',label = 'Data' )\n",
    "plt.xlabel('X')\n",
    "plt.ylabel('Y')\n",
    "plt.title('data')\n",
    "plt.legend()"
   ]
  },
  {
   "cell_type": "code",
   "execution_count": 4,
   "metadata": {},
   "outputs": [],
   "source": [
    "x1_poly_2 = PolynomialFeatures(2).fit_transform(x1)\n",
    "x1_poly_4 = PolynomialFeatures(4).fit_transform(x1)\n",
    "x1_poly_8 = PolynomialFeatures(8).fit_transform(x1)\n",
    "x1_poly_16 = PolynomialFeatures(16).fit_transform(x1)"
   ]
  },
  {
   "cell_type": "code",
   "execution_count": 5,
   "metadata": {},
   "outputs": [],
   "source": [
    "x1_train , x1_test , y1_train, y1_test = train_test_split(x1 , y1 , test_size = 0.5, random_state = 40)"
   ]
  },
  {
   "cell_type": "markdown",
   "metadata": {},
   "source": [
    "# pow = 1"
   ]
  },
  {
   "cell_type": "code",
   "execution_count": 6,
   "metadata": {},
   "outputs": [
    {
     "data": {
      "text/plain": [
       "LinearRegression(normalize=True)"
      ]
     },
     "execution_count": 6,
     "metadata": {},
     "output_type": "execute_result"
    }
   ],
   "source": [
    "lr = LinearRegression(normalize=True)\n",
    "lr.fit(x1_train,y1_train)\n",
    "lr.fit(x1_test,y1_test)"
   ]
  },
  {
   "cell_type": "code",
   "execution_count": 7,
   "metadata": {},
   "outputs": [
    {
     "name": "stdout",
     "output_type": "stream",
     "text": [
      "TRAIN SCORE IS: 0.732430433028556\n",
      "TEST SCORE IS: 0.7574394693033905\n"
     ]
    }
   ],
   "source": [
    "print('TRAIN SCORE IS:', lr.score(x1_train,y1_train))\n",
    "print('TEST SCORE IS:', lr.score(x1_test,y1_test))"
   ]
  },
  {
   "cell_type": "code",
   "execution_count": 8,
   "metadata": {},
   "outputs": [
    {
     "name": "stdout",
     "output_type": "stream",
     "text": [
      "MSE for TRAIN IS: 4.3413401154515627e+21\n",
      "MSE for TEST IS: 3.068591917573389e+21\n"
     ]
    }
   ],
   "source": [
    "h = lr.predict(x1_train)\n",
    "MSE_1 = np.mean((y1_train - h) ** 2)/2\n",
    "print('MSE for TRAIN IS:',MSE_1)\n",
    "\n",
    "h_test = lr.predict(x1_test)\n",
    "MSE_test_1 = np.mean((y1_test - h_test) ** 2)/2\n",
    "print('MSE for TEST IS:',MSE_test_1)"
   ]
  },
  {
   "cell_type": "code",
   "execution_count": 9,
   "metadata": {},
   "outputs": [
    {
     "data": {
      "text/plain": [
       "<matplotlib.legend.Legend at 0x2349b8263c8>"
      ]
     },
     "execution_count": 9,
     "metadata": {},
     "output_type": "execute_result"
    },
    {
     "data": {
      "image/png": "[encoded data removed]",
      "text/plain": [
       "<Figure size 432x288 with 1 Axes>"
      ]
     },
     "metadata": {
      "needs_background": "light"
     },
     "output_type": "display_data"
    }
   ],
   "source": [
    "X1 = np.arange(-10,610,0.1).reshape(-1,1)\n",
    "Y1 = lr.predict(X1)\n",
    "\n",
    "plt.plot(X1,Y1,\"r--\")\n",
    "plt.plot(x1_train , y1_train, 'bo', label = 'Train')\n",
    "plt.plot(x1_test , y1_test, 'co' ,label = 'Test')\n",
    "plt.title('TAVAN = 1')\n",
    "plt.grid()\n",
    "plt.legend()\n"
   ]
  },
  {
   "cell_type": "markdown",
   "metadata": {},
   "source": [
    "# pow = 2"
   ]
  },
  {
   "cell_type": "code",
   "execution_count": 10,
   "metadata": {},
   "outputs": [],
   "source": [
    "poly = PolynomialFeatures(degree=2, include_bias=False)\n",
    "x1_p2 = poly.fit_transform(x1_train)\n",
    "\n",
    "poly_test = PolynomialFeatures(degree=2, include_bias=False)\n",
    "x1_p2_test = poly_test.fit_transform(x1_test)"
   ]
  },
  {
   "cell_type": "code",
   "execution_count": 11,
   "metadata": {},
   "outputs": [],
   "source": [
    "lr1_2 = LinearRegression(normalize=True).fit(x1_p2, y1_train)\n",
    "lr2_2 = LinearRegression(normalize=True).fit(x1_p2_test, y1_test)"
   ]
  },
  {
   "cell_type": "code",
   "execution_count": 12,
   "metadata": {},
   "outputs": [
    {
     "name": "stdout",
     "output_type": "stream",
     "text": [
      "MSE for TRAIN IS: 3.4002314399657696e+20\n",
      "MSE for TEST IS: 2.2841602450379863e+20\n"
     ]
    }
   ],
   "source": [
    "h = lr1_2.predict(x1_p2)\n",
    "MSE_2 = np.mean((y1_train - h) ** 2)/2\n",
    "print('MSE for TRAIN IS:',MSE_2)\n",
    "\n",
    "h_test = lr2_2.predict(x1_p2_test)\n",
    "MSE_test_2 = np.mean((y1_test - h_test) ** 2)/2\n",
    "print('MSE for TEST IS:',MSE_test_2)"
   ]
  },
  {
   "cell_type": "code",
   "execution_count": 13,
   "metadata": {},
   "outputs": [
    {
     "name": "stdout",
     "output_type": "stream",
     "text": [
      "TRAIN SCORE IS: 0.9790433730184787\n",
      "TEST SCORE IS: 0.9819445812243862\n"
     ]
    }
   ],
   "source": [
    "print('TRAIN SCORE IS:' , lr1_2.score(x1_p2, y1_train))\n",
    "print('TEST SCORE IS:' , lr2_2.score(x1_p2_test, y1_test))"
   ]
  },
  {
   "cell_type": "code",
   "execution_count": 14,
   "metadata": {},
   "outputs": [
    {
     "data": {
      "text/plain": [
       "<matplotlib.legend.Legend at 0x2349b8b6978>"
      ]
     },
     "execution_count": 14,
     "metadata": {},
     "output_type": "execute_result"
    },
    {
     "data": {
      "image/png": "[encoded data removed]",
      "text/plain": [
       "<Figure size 432x288 with 1 Axes>"
      ]
     },
     "metadata": {
      "needs_background": "light"
     },
     "output_type": "display_data"
    }
   ],
   "source": [
    "X1_2 = np.arange(-1,600,0.1).reshape(-1,1)\n",
    "X1_line_P2 = poly.fit_transform(X1_2)\n",
    "Y1_p2 = lr1_2.predict(X1_line_P2)\n",
    "\n",
    "plt.plot(X1_2,Y1_p2,\"r--\")\n",
    "plt.plot(x1_train , y1_train, 'bo', label = 'Train')\n",
    "plt.plot(x1_test , y1_test, 'co' ,label = 'Test')\n",
    "plt.title('TAVAN = 2')\n",
    "plt.grid()\n",
    "plt.legend()\n"
   ]
  },
  {
   "cell_type": "markdown",
   "metadata": {},
   "source": [
    "# pow = 4"
   ]
  },
  {
   "cell_type": "code",
   "execution_count": 15,
   "metadata": {},
   "outputs": [],
   "source": [
    "poly_4 = PolynomialFeatures(degree=4, include_bias=False)\n",
    "x1_p4 = poly_4.fit_transform(x1_train)\n",
    "\n",
    "poly_test_4 = PolynomialFeatures(degree=4, include_bias=False)\n",
    "x1_p4_test = poly_test_4.fit_transform(x1_test)"
   ]
  },
  {
   "cell_type": "code",
   "execution_count": 16,
   "metadata": {},
   "outputs": [],
   "source": [
    "lr1_4 = LinearRegression(normalize=True).fit(x1_p4, y1_train)\n",
    "lr2_4 = LinearRegression(normalize=True).fit(x1_p4_test, y1_test)"
   ]
  },
  {
   "cell_type": "code",
   "execution_count": 17,
   "metadata": {},
   "outputs": [
    {
     "name": "stdout",
     "output_type": "stream",
     "text": [
      "MSE for TRAIN IS: 12.045491270321412\n",
      "MSE for TEST IS: 9.905492152361315\n"
     ]
    }
   ],
   "source": [
    "h = lr1_4.predict(x1_p4)\n",
    "MSE_4 = np.mean((y1_train - h) ** 2)/2\n",
    "print('MSE for TRAIN IS:',MSE_4)\n",
    "\n",
    "h_test = lr2_4.predict(x1_p4_test)\n",
    "MSE_test_4 = np.mean((y1_test - h_test) ** 2)/2\n",
    "print('MSE for TEST IS:',MSE_test_4)"
   ]
  },
  {
   "cell_type": "code",
   "execution_count": 18,
   "metadata": {},
   "outputs": [
    {
     "name": "stdout",
     "output_type": "stream",
     "text": [
      "TRAIN SCORE IS: 1.0\n",
      "TEST SCORE IS: 1.0\n"
     ]
    }
   ],
   "source": [
    "print('TRAIN SCORE IS:' , lr1_4.score(x1_p4, y1_train))\n",
    "print('TEST SCORE IS:' , lr2_4.score(x1_p4_test, y1_test))"
   ]
  },
  {
   "cell_type": "code",
   "execution_count": 19,
   "metadata": {},
   "outputs": [
    {
     "data": {
      "text/plain": [
       "<matplotlib.legend.Legend at 0x2349d93e470>"
      ]
     },
     "execution_count": 19,
     "metadata": {},
     "output_type": "execute_result"
    },
    {
     "data": {
      "image/png": "[encoded data removed]",
      "text/plain": [
       "<Figure size 432x288 with 1 Axes>"
      ]
     },
     "metadata": {
      "needs_background": "light"
     },
     "output_type": "display_data"
    }
   ],
   "source": [
    "X1_4 = np.arange(-50,700,0.1).reshape(-1,1)\n",
    "X1_line_P4 = poly_4.fit_transform(X1_4)\n",
    "Y1_p4 = lr1_4.predict(X1_line_P4)\n",
    "\n",
    "plt.plot(X1_4,Y1_p4,\"r--\")\n",
    "plt.plot(x1_train , y1_train, 'bo', label = 'Train')\n",
    "plt.plot(x1_test , y1_test, 'co' ,label = 'Test')\n",
    "plt.title('TAVAN = 4')\n",
    "plt.grid()\n",
    "plt.legend()\n"
   ]
  },
  {
   "cell_type": "markdown",
   "metadata": {},
   "source": [
    "# pow = 8"
   ]
  },
  {
   "cell_type": "code",
   "execution_count": 20,
   "metadata": {},
   "outputs": [],
   "source": [
    "poly_8 = PolynomialFeatures(degree=8, include_bias=False)\n",
    "x1_p8 = poly_8.fit_transform(x1_train)\n",
    "\n",
    "poly_test_8 = PolynomialFeatures(degree=8, include_bias=False)\n",
    "x1_p8_test = poly_test_8.fit_transform(x1_test)"
   ]
  },
  {
   "cell_type": "code",
   "execution_count": 21,
   "metadata": {},
   "outputs": [],
   "source": [
    "lr1_8 = LinearRegression(normalize=True).fit(x1_p8, y1_train)\n",
    "lr2_8 = LinearRegression(normalize=True).fit(x1_p8_test, y1_test)"
   ]
  },
  {
   "cell_type": "code",
   "execution_count": 22,
   "metadata": {},
   "outputs": [
    {
     "name": "stdout",
     "output_type": "stream",
     "text": [
      "MSE for TRAIN IS: 11.69915880270113\n",
      "MSE for TEST IS: 9.144519871604597\n"
     ]
    }
   ],
   "source": [
    "h = lr1_8.predict(x1_p8)\n",
    "MSE_8 = np.mean((y1_train - h) ** 2)/2\n",
    "print('MSE for TRAIN IS:',MSE_8)\n",
    "\n",
    "h_test = lr2_8.predict(x1_p8_test)\n",
    "MSE_test_8 = np.mean((y1_test - h_test) ** 2)/2\n",
    "print('MSE for TEST IS:',MSE_test_8)"
   ]
  },
  {
   "cell_type": "code",
   "execution_count": 23,
   "metadata": {},
   "outputs": [
    {
     "name": "stdout",
     "output_type": "stream",
     "text": [
      "TRAIN SCORE IS: 1.0\n",
      "TEST SCORE IS: 1.0\n"
     ]
    }
   ],
   "source": [
    "print('TRAIN SCORE IS:' , lr1_8.score(x1_p8, y1_train))\n",
    "print('TEST SCORE IS:' , lr2_8.score(x1_p8_test, y1_test))"
   ]
  },
  {
   "cell_type": "code",
   "execution_count": 24,
   "metadata": {},
   "outputs": [
    {
     "data": {
      "text/plain": [
       "<matplotlib.legend.Legend at 0x2349d9badd8>"
      ]
     },
     "execution_count": 24,
     "metadata": {},
     "output_type": "execute_result"
    },
    {
     "data": {
      "image/png": "[encoded data removed]",
      "text/plain": [
       "<Figure size 432x288 with 1 Axes>"
      ]
     },
     "metadata": {
      "needs_background": "light"
     },
     "output_type": "display_data"
    }
   ],
   "source": [
    "X1_8 = np.arange(-50,700,0.1).reshape(-1,1)\n",
    "X1_line_P8 = poly_8.fit_transform(X1_8)\n",
    "Y1_p8 = lr1_8.predict(X1_line_P8)\n",
    "\n",
    "plt.plot(X1_8,Y1_p8,\"r--\")\n",
    "plt.plot(x1_train , y1_train, 'bo', label = 'Train')\n",
    "plt.plot(x1_test , y1_test, 'co' ,label = 'Test')\n",
    "plt.title('TAVAN = 8')\n",
    "plt.grid()\n",
    "plt.legend()"
   ]
  },
  {
   "cell_type": "markdown",
   "metadata": {},
   "source": [
    "# pow = 16"
   ]
  },
  {
   "cell_type": "code",
   "execution_count": 25,
   "metadata": {},
   "outputs": [],
   "source": [
    "poly_16 = PolynomialFeatures(degree=16, include_bias=False)\n",
    "x1_p16 = poly_16.fit_transform(x1_train)\n",
    "\n",
    "poly_test_16 = PolynomialFeatures(degree=16, include_bias=False)\n",
    "x1_p16_test = poly_test_16.fit_transform(x1_test)"
   ]
  },
  {
   "cell_type": "code",
   "execution_count": 26,
   "metadata": {},
   "outputs": [],
   "source": [
    "lr1_16 = LinearRegression(normalize=True).fit(x1_p16, y1_train)\n",
    "lr2_16 = LinearRegression(normalize=True).fit(x1_p16_test, y1_test)"
   ]
  },
  {
   "cell_type": "code",
   "execution_count": 27,
   "metadata": {},
   "outputs": [
    {
     "name": "stdout",
     "output_type": "stream",
     "text": [
      "MSE for TRAIN IS: 10.603597943713119\n",
      "MSE for TEST IS: 8.902398861360112\n"
     ]
    }
   ],
   "source": [
    "h = lr1_16.predict(x1_p16)\n",
    "MSE_16 = np.mean((y1_train - h) ** 2)/2\n",
    "print('MSE for TRAIN IS:',MSE_16)\n",
    "\n",
    "h_test = lr2_16.predict(x1_p16_test)\n",
    "MSE_test_16 = np.mean((y1_test - h_test) ** 2)/2\n",
    "print('MSE for TEST IS:',MSE_test_16)"
   ]
  },
  {
   "cell_type": "code",
   "execution_count": 28,
   "metadata": {},
   "outputs": [
    {
     "name": "stdout",
     "output_type": "stream",
     "text": [
      "TRAIN SCORE IS: 1.0\n",
      "TEST SCORE IS: 1.0\n"
     ]
    }
   ],
   "source": [
    "print('TRAIN SCORE IS:' , lr1_16.score(x1_p16, y1_train))\n",
    "print('TEST SCORE IS:' , lr2_16.score(x1_p16_test, y1_test))"
   ]
  },
  {
   "cell_type": "code",
   "execution_count": 29,
   "metadata": {},
   "outputs": [
    {
     "data": {
      "text/plain": [
       "<matplotlib.legend.Legend at 0x2349da49160>"
      ]
     },
     "execution_count": 29,
     "metadata": {},
     "output_type": "execute_result"
    },
    {
     "data": {
      "image/png": "[encoded data removed]",
      "text/plain": [
       "<Figure size 432x288 with 1 Axes>"
      ]
     },
     "metadata": {
      "needs_background": "light"
     },
     "output_type": "display_data"
    }
   ],
   "source": [
    "X1_16 = np.arange(-50,700,0.1).reshape(-1,1)\n",
    "X1_line_P16 = poly_16.fit_transform(X1_16)\n",
    "Y1_p16= lr1_16.predict(X1_line_P16)\n",
    "\n",
    "plt.plot(X1_16,Y1_p16,\"r--\")\n",
    "plt.plot(x1_train , y1_train, 'bo', label = 'Train')\n",
    "plt.plot(x1_test , y1_test, 'co' ,label = 'Test')\n",
    "plt.title('TAVAN = 16')\n",
    "plt.grid()\n",
    "plt.legend()"
   ]
  },
  {
   "cell_type": "markdown",
   "metadata": {},
   "source": [
    "# MSE gragh:"
   ]
  },
  {
   "cell_type": "code",
   "execution_count": 30,
   "metadata": {},
   "outputs": [],
   "source": [
    "t1 = np.array([1,2,4,8,16]).reshape(-1,1)\n",
    "m1 = np.array([MSE_1,MSE_2,MSE_4,MSE_8,MSE_16]).reshape(-1,1)\n",
    "m2 = np.array([MSE_test_1,MSE_test_2,MSE_test_4,MSE_test_8,MSE_test_16]).reshape(-1,1)"
   ]
  },
  {
   "cell_type": "code",
   "execution_count": 32,
   "metadata": {},
   "outputs": [
    {
     "data": {
      "text/plain": [
       "<matplotlib.legend.Legend at 0x2349db3ec50>"
      ]
     },
     "execution_count": 32,
     "metadata": {},
     "output_type": "execute_result"
    },
    {
     "data": {
      "image/png": "[encoded data removed]",
      "text/plain": [
       "<Figure size 432x288 with 1 Axes>"
      ]
     },
     "metadata": {
      "needs_background": "light"
     },
     "output_type": "display_data"
    }
   ],
   "source": [
    "plt.plot(t1 , m1 , 'b-', label = 'Train')\n",
    "plt.plot(t1 , m2, 'r-' ,label = 'Test')\n",
    "plt.title('MSE')\n",
    "plt.grid()\n",
    "plt.legend()"
   ]
  },
  {
   "cell_type": "markdown",
   "metadata": {},
   "source": [
    "# Learning curve:"
   ]
  },
  {
   "cell_type": "code",
   "execution_count": 44,
   "metadata": {},
   "outputs": [
    {
     "name": "stdout",
     "output_type": "stream",
     "text": [
      "Train_score is : [0.88117366 0.73549639 0.74482526 0.73413507 0.73865189]\n",
      "Test_score is : [0.22753827 0.60799504 0.64522596 0.65875619 0.66793574]\n",
      "Train_sizes is : [ 8 26 44 62 80]\n"
     ]
    },
    {
     "data": {
      "image/png": "[encoded data removed]",
      "text/plain": [
       "<Figure size 432x288 with 1 Axes>"
      ]
     },
     "metadata": {
      "needs_background": "light"
     },
     "output_type": "display_data"
    }
   ],
   "source": [
    "lr = LinearRegression(normalize=True)\n",
    "train_sizes, train_score , test_score = learning_curve(lr , x1_train , y1_train, cv=5)\n",
    "plt.plot(train_sizes , train_score.mean(axis = 1), 'bo-', label = 'Train')\n",
    "plt.plot(train_sizes , test_score.mean(axis = 1), 'co-', label = 'Test')\n",
    "plt.legend()\n",
    "print('Train_score is :', train_score.mean(axis=1) )\n",
    "print('Test_score is :', test_score.mean(axis=1) )\n",
    "print('Train_sizes is :', train_sizes)"
   ]
  },
  {
   "cell_type": "code",
   "execution_count": 45,
   "metadata": {},
   "outputs": [
    {
     "name": "stdout",
     "output_type": "stream",
     "text": [
      "Train_score is : [0.99575243 0.98250944 0.98056069 0.97898084 0.97900933]\n",
      "Test_score is : [0.81830891 0.96549523 0.96667466 0.9679602  0.96959707]\n",
      "Train_sizes is : [ 8 26 44 62 80]\n"
     ]
    },
    {
     "data": {
      "image/png": "[encoded data removed]",
      "text/plain": [
       "<Figure size 432x288 with 1 Axes>"
      ]
     },
     "metadata": {
      "needs_background": "light"
     },
     "output_type": "display_data"
    }
   ],
   "source": [
    "lr = LinearRegression(normalize=True)\n",
    "train_sizes, train_score , test_score = learning_curve(lr , x1_p2 , y1_train, cv=5)\n",
    "plt.plot(train_sizes , train_score.mean(axis = 1), 'bo-', label = 'Train 2')\n",
    "plt.plot(train_sizes , test_score.mean(axis = 1), 'co-', label = 'Test 2')\n",
    "plt.legend()\n",
    "print('Train_score is :', train_score.mean(axis=1) )\n",
    "print('Test_score is :', test_score.mean(axis=1) )\n",
    "print('Train_sizes is :', train_sizes)"
   ]
  },
  {
   "cell_type": "code",
   "execution_count": 51,
   "metadata": {},
   "outputs": [
    {
     "name": "stdout",
     "output_type": "stream",
     "text": [
      "Train_score is : [1. 1. 1. 1. 1.]\n",
      "Test_score is : [1. 1. 1. 1. 1.]\n",
      "Train_sizes is : [ 8 26 44 62 80]\n"
     ]
    },
    {
     "data": {
      "image/png": "[encoded data removed]",
      "text/plain": [
       "<Figure size 432x288 with 1 Axes>"
      ]
     },
     "metadata": {
      "needs_background": "light"
     },
     "output_type": "display_data"
    }
   ],
   "source": [
    "lr = LinearRegression(normalize=True)\n",
    "train_sizes, train_score , test_score = learning_curve(lr , x1_p4 , y1_train, cv=5)\n",
    "plt.plot(train_sizes , train_score.mean(axis = 1), 'bo-', label = 'Train 4')\n",
    "plt.plot(train_sizes , test_score.mean(axis = 1), 'co-', label = 'Test 4')\n",
    "plt.legend()\n",
    "print('Train_score is :', train_score.mean(axis=1) )\n",
    "print('Test_score is :', test_score.mean(axis=1) )\n",
    "print('Train_sizes is :', train_sizes)"
   ]
  },
  {
   "cell_type": "code",
   "execution_count": 53,
   "metadata": {},
   "outputs": [
    {
     "name": "stdout",
     "output_type": "stream",
     "text": [
      "Train_score is : [1. 1. 1. 1. 1.]\n",
      "Test_score is : [0.9999988 1.        1.        1.        1.       ]\n",
      "Train_sizes is : [ 8 26 44 62 80]\n"
     ]
    },
    {
     "data": {
      "image/png": "[encoded data removed]",
      "text/plain": [
       "<Figure size 432x288 with 1 Axes>"
      ]
     },
     "metadata": {
      "needs_background": "light"
     },
     "output_type": "display_data"
    }
   ],
   "source": [
    "lr = LinearRegression(normalize=True)\n",
    "train_sizes, train_score , test_score = learning_curve(lr , x1_p8 , y1_train, cv=5)\n",
    "plt.plot(train_sizes , train_score.mean(axis = 1), 'bo-', label = 'Train 8')\n",
    "plt.plot(train_sizes , test_score.mean(axis = 1), 'co-', label = 'Test 8')\n",
    "plt.legend()\n",
    "print('Train_score is :', train_score.mean(axis=1) )\n",
    "print('Test_score is :', test_score.mean(axis=1) )\n",
    "print('Train_sizes is :', train_sizes)"
   ]
  },
  {
   "cell_type": "code",
   "execution_count": 57,
   "metadata": {},
   "outputs": [
    {
     "name": "stdout",
     "output_type": "stream",
     "text": [
      "Train_score is : [1. 1. 1. 1. 1.]\n",
      "Test_score is : [-2.17722115  1.          1.          1.          1.        ]\n",
      "Train_sizes is : [ 8 26 44 62 80]\n"
     ]
    },
    {
     "data": {
      "image/png": "[encoded data removed]",
      "text/plain": [
       "<Figure size 432x288 with 1 Axes>"
      ]
     },
     "metadata": {
      "needs_background": "light"
     },
     "output_type": "display_data"
    }
   ],
   "source": [
    "lr = LinearRegression(normalize=True)\n",
    "train_sizes, train_score , test_score = learning_curve(lr , x1_p16 , y1_train, cv=5)\n",
    "plt.plot(train_sizes , train_score.mean(axis = 1), 'bo-', label = 'Train 16')\n",
    "plt.plot(train_sizes , test_score.mean(axis = 1), 'co-', label = 'Test 16')\n",
    "plt.legend()\n",
    "print('Train_score is :', train_score.mean(axis=1) )\n",
    "print('Test_score is :', test_score.mean(axis=1) )\n",
    "print('Train_sizes is :', train_sizes)"
   ]
  },
  {
   "cell_type": "code",
   "execution_count": null,
   "metadata": {},
   "outputs": [],
   "source": []
  }
 ],
 "metadata": {
  "kernelspec": {
   "display_name": "Python 3",
   "language": "python",
   "name": "python3"
  },
  "language_info": {
   "codemirror_mode": {
    "name": "ipython",
    "version": 3
   },
   "file_extension": ".py",
   "mimetype": "text/x-python",
   "name": "python",
   "nbconvert_exporter": "python",
   "pygments_lexer": "ipython3",
   "version": "3.6.8"
  }
 },
 "nbformat": 4,
 "nbformat_minor": 4
}
